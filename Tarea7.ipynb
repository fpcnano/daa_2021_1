{
  "nbformat": 4,
  "nbformat_minor": 0,
  "metadata": {
    "colab": {
      "name": "Tarea7.ipynb",
      "provenance": [],
      "authorship_tag": "ABX9TyNbYUmf5JsZqRSCOGZnMIoc",
      "include_colab_link": true
    },
    "kernelspec": {
      "name": "python3",
      "display_name": "Python 3"
    }
  },
  "cells": [
    {
      "cell_type": "markdown",
      "metadata": {
        "id": "view-in-github",
        "colab_type": "text"
      },
      "source": [
        "<a href=\"https://colab.research.google.com/github/fpcnano/daa_2021_1/blob/master/Tarea7.ipynb\" target=\"_parent\"><img src=\"https://colab.research.google.com/assets/colab-badge.svg\" alt=\"Open In Colab\"/></a>"
      ]
    },
    {
      "cell_type": "code",
      "metadata": {
        "colab": {
          "base_uri": "https://localhost:8080/"
        },
        "id": "f8LEKYr8-3k5",
        "outputId": "193d1cdf-07ad-4639-9bb1-03e88f53241c"
      },
      "source": [
        "def medRec(pila):\n",
        "\n",
        "    if (len(pila)) == 0:\n",
        "        None\n",
        "    else:\n",
        "        tam= len(pila)\n",
        "        med= (int(tam/2)-1)\n",
        "        bye= pila.pop(med)\n",
        "        print(bye)\n",
        "\n",
        "def main():\n",
        "\n",
        "    pila= [1,2,3,4,5,6,7,8,9,10]\n",
        "    print(pila)\n",
        "    print(f\"Elemento medio fuera de pila:\")\n",
        "    medRec(pila)\n",
        "    print(pila)\n",
        "\n",
        "main()"
      ],
      "execution_count": 1,
      "outputs": [
        {
          "output_type": "stream",
          "text": [
            "[1, 2, 3, 4, 5, 6, 7, 8, 9, 10]\n",
            "Elemento medio fuera de pila:\n",
            "5\n",
            "[1, 2, 3, 4, 6, 7, 8, 9, 10]\n"
          ],
          "name": "stdout"
        }
      ]
    },
    {
      "cell_type": "code",
      "metadata": {
        "colab": {
          "base_uri": "https://localhost:8080/"
        },
        "id": "mVWuENqyBVkZ",
        "outputId": "07b4ec7b-2516-4cdf-cdee-3ed5594de78d"
      },
      "source": [
        "def contaRec(x):\n",
        "\n",
        "    if x == 0:\n",
        "        None\n",
        "    else:\n",
        "        print(x)\n",
        "        contaRec(x-1)\n",
        "\n",
        "def main():\n",
        "\n",
        "    contaRec(10)\n",
        "\n",
        "main()"
      ],
      "execution_count": 2,
      "outputs": [
        {
          "output_type": "stream",
          "text": [
            "10\n",
            "9\n",
            "8\n",
            "7\n",
            "6\n",
            "5\n",
            "4\n",
            "3\n",
            "2\n",
            "1\n"
          ],
          "name": "stdout"
        }
      ]
    }
  ]
}