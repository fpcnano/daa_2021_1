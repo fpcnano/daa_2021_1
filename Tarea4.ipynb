{
  "nbformat": 4,
  "nbformat_minor": 0,
  "metadata": {
    "colab": {
      "name": "Tarea4.ipynb",
      "provenance": [],
      "authorship_tag": "ABX9TyPMigwkOtcntnUIsx1euhvQ",
      "include_colab_link": true
    },
    "kernelspec": {
      "name": "python3",
      "display_name": "Python 3"
    }
  },
  "cells": [
    {
      "cell_type": "markdown",
      "metadata": {
        "id": "view-in-github",
        "colab_type": "text"
      },
      "source": [
        "<a href=\"https://colab.research.google.com/github/fpcnano/daa_2021_1/blob/master/Tarea4.ipynb\" target=\"_parent\"><img src=\"https://colab.research.google.com/assets/colab-badge.svg\" alt=\"Open In Colab\"/></a>"
      ]
    },
    {
      "cell_type": "code",
      "metadata": {
        "id": "TgHTJvlXpbMs",
        "outputId": "001a17b6-dd75-487d-b7f6-26ffbcca574d",
        "colab": {
          "base_uri": "https://localhost:8080/",
          "height": 357
        }
      },
      "source": [
        "def ejemplo( n ):\n",
        "\n",
        "  count= 0\n",
        "  i= n\n",
        "  print(\"nivel 1\")\n",
        "  while i >= 1:\n",
        "    count += 1\n",
        "    i= i//2\n",
        "    print(\"nivel 2\")\n",
        "  basura= 3+2\n",
        "  return count\n",
        "\n",
        "def main():\n",
        "\n",
        "  ejemplo(5)\n",
        "  ejemplo(10)\n",
        "  ejemplo(15)\n",
        "  ejemplo(20)\n",
        "\n",
        "main()"
      ],
      "execution_count": 12,
      "outputs": [
        {
          "output_type": "stream",
          "text": [
            "nivel 1\n",
            "nivel 2\n",
            "nivel 2\n",
            "nivel 2\n",
            "nivel 1\n",
            "nivel 2\n",
            "nivel 2\n",
            "nivel 2\n",
            "nivel 2\n",
            "nivel 1\n",
            "nivel 2\n",
            "nivel 2\n",
            "nivel 2\n",
            "nivel 2\n",
            "nivel 1\n",
            "nivel 2\n",
            "nivel 2\n",
            "nivel 2\n",
            "nivel 2\n",
            "nivel 2\n"
          ],
          "name": "stdout"
        }
      ]
    }
  ]
}