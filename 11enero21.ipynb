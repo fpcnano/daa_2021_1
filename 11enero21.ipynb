{
  "nbformat": 4,
  "nbformat_minor": 0,
  "metadata": {
    "colab": {
      "name": "11enero21.ipynb",
      "provenance": [],
      "authorship_tag": "ABX9TyOaPdGmtGO6tSmoCB8xoJjn",
      "include_colab_link": true
    },
    "kernelspec": {
      "name": "python3",
      "display_name": "Python 3"
    }
  },
  "cells": [
    {
      "cell_type": "markdown",
      "metadata": {
        "id": "view-in-github",
        "colab_type": "text"
      },
      "source": [
        "<a href=\"https://colab.research.google.com/github/fpcnano/daa_2021_1/blob/master/11enero21.ipynb\" target=\"_parent\"><img src=\"https://colab.research.google.com/assets/colab-badge.svg\" alt=\"Open In Colab\"/></a>"
      ]
    },
    {
      "cell_type": "code",
      "metadata": {
        "id": "6E9oADzWJ0k4"
      },
      "source": [
        "class NodoArbol:\r\n",
        "  def __init__( self , value , left = None , right = None ):\r\n",
        "    self.data = value\r\n",
        "    self.left = left\r\n",
        "    self.right = right"
      ],
      "execution_count": null,
      "outputs": []
    },
    {
      "cell_type": "code",
      "metadata": {
        "id": "Vw4-5vl-J5Z1"
      },
      "source": [
        "arbol = NodoArbol(\"R\", NodoArbol(\"C\") , NodoArbol(\"H\") )"
      ],
      "execution_count": null,
      "outputs": []
    },
    {
      "cell_type": "code",
      "metadata": {
        "id": "NSApsK0lJ8hE"
      },
      "source": [
        "nodo1 = NodoArbol(\"C\")\r\n",
        "nodo2 = NodoArbol(\"H\")\r\n",
        "arbol_v2 = NodoArbol( \"R\" , nodo1 , nodo2)"
      ],
      "execution_count": null,
      "outputs": []
    },
    {
      "cell_type": "code",
      "metadata": {
        "id": "xR4Lk1GNJ--b"
      },
      "source": [
        "print(arbol.right.data)\r\n",
        "print(arbol_v2.right.data)"
      ],
      "execution_count": null,
      "outputs": []
    },
    {
      "cell_type": "code",
      "metadata": {
        "id": "59B_PbSqKKks"
      },
      "source": [
        "arbol2 = NodoArbol( 4 , NodoArbol( 3 , NodoArbol( 2 , NodoArbol( 2 ))) , NodoArbol( 5 ))\r\n",
        "print(arbol2.left.left.left.data)\r\n",
        "\r\n",
        "aux = arbol2\r\n",
        "while aux.left != None:\r\n",
        "  aux = aux.left\r\n",
        "print(aux.data)"
      ],
      "execution_count": null,
      "outputs": []
    },
    {
      "cell_type": "code",
      "metadata": {
        "id": "aG9sVTIoKR5U"
      },
      "source": [
        "arbol3 = NodoArbol( \"Santi\" , NodoArbol( \"Jesús\" , None , NodoArbol( \"Pedro\" , None , NodoArbol( \"Diana\" ))), None )"
      ],
      "execution_count": null,
      "outputs": []
    }
  ]
}