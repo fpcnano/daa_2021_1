{
  "nbformat": 4,
  "nbformat_minor": 0,
  "metadata": {
    "colab": {
      "name": "5Octubre.ipynb",
      "provenance": [],
      "authorship_tag": "ABX9TyNFiZxAvYbYe/GPmPOHg+S8",
      "include_colab_link": true
    },
    "kernelspec": {
      "name": "python3",
      "display_name": "Python 3"
    }
  },
  "cells": [
    {
      "cell_type": "markdown",
      "metadata": {
        "id": "view-in-github",
        "colab_type": "text"
      },
      "source": [
        "<a href=\"https://colab.research.google.com/github/fpcnano/daa_2021_1/blob/master/5octubre.ipynb\" target=\"_parent\"><img src=\"https://colab.research.google.com/assets/colab-badge.svg\" alt=\"Open In Colab\"/></a>"
      ]
    },
    {
      "cell_type": "markdown",
      "metadata": {
        "id": "zDNP_pQyAGsh"
      },
      "source": [
        "# Estrucutra de Datos Pila (Stack)\n",
        "\n",
        "Caracterrísticas:\n",
        "1. Last in First Out (LIFO)\n",
        "2. Son de tipo lineal\n",
        "3. Se puden obtener e ingresar datos desde el tope\n",
        "4. push para agregar datos\n",
        "5. pop para sacar datos\n",
        "\n",
        "##Operaciones de la Pila\n",
        "1. is_empty(regresa true o false) Te indica si la pila está vacía\n",
        "2. get_top(regresa el elemento en el tope SIN SACARLO)\n",
        "3. pop(saca el elemento del tope y lo regresa)\n",
        "4. push(iingresa un elemento en el tope)\n",
        "5. get_length(regresa el númmero de elementos de la pila)\n"
      ]
    },
    {
      "cell_type": "code",
      "metadata": {
        "id": "0CNiED9R_Yza"
      },
      "source": [
        "class Stack:\n",
        "  \n",
        "  def __init__(self):\n",
        "    self.__datos= []\n",
        "\n",
        "  def is_empty(self):\n",
        "    return len(self.__datos)== 0\n",
        "\n",
        "  def get_top(self):\n",
        "    return self.__datos[-1]\n",
        "\n",
        "  def pop(self):\n",
        "    return self.__datos.pop()\n",
        "\n",
        "  def push(self, valor):\n",
        "    self.__datos.append(valor)\n",
        "\n",
        "  def get_length(self, ):\n",
        "    return len(self.__datos)\n",
        "\n",
        "  def to_string(self):\n",
        "    print(\"|--------------------|\")\n",
        "    for elemento in self.__datos[-1::-1]:\n",
        "      print(f\"{elemento}\")\n",
        "    print(\"|--------------------|\\n\")"
      ],
      "execution_count": 8,
      "outputs": []
    },
    {
      "cell_type": "code",
      "metadata": {
        "id": "NBtXgZFIFURW",
        "outputId": "13c15830-8255-4570-a5a7-8556d0bed185",
        "colab": {
          "base_uri": "https://localhost:8080/",
          "height": 646
        }
      },
      "source": [
        "pila1= Stack()\n",
        "pila1.push(10)\n",
        "pila1.push(20)\n",
        "pila1.push(1)\n",
        "pila1.push(393)\n",
        "pila1.push(103)\n",
        "pila1.to_string()\n",
        "\n",
        "sacado= pila1.pop()\n",
        "print(sacado)\n",
        "pila1.to_string()\n",
        "\n",
        "pila1.push(444)\n",
        "pila1.push(233)\n",
        "pila1.to_string()\n",
        "\n",
        "print(f\"El elemento tope es: {pila1.get_top()}\")\n",
        "pila1.to_string()\n",
        "print(f\"La pila tiene {pila1.get_length()} elementos\")\n",
        "print(f\"¿La pila esta vacia? {pila1.is_empty()}\")"
      ],
      "execution_count": 16,
      "outputs": [
        {
          "output_type": "stream",
          "text": [
            "|--------------------|\n",
            "103\n",
            "393\n",
            "1\n",
            "20\n",
            "10\n",
            "|--------------------|\n",
            "\n",
            "103\n",
            "|--------------------|\n",
            "393\n",
            "1\n",
            "20\n",
            "10\n",
            "|--------------------|\n",
            "\n",
            "|--------------------|\n",
            "233\n",
            "444\n",
            "393\n",
            "1\n",
            "20\n",
            "10\n",
            "|--------------------|\n",
            "\n",
            "El elemento tope es: 233\n",
            "|--------------------|\n",
            "233\n",
            "444\n",
            "393\n",
            "1\n",
            "20\n",
            "10\n",
            "|--------------------|\n",
            "\n",
            "La pila tiene 6 elementos\n",
            "¿La pila esta vacia? False\n"
          ],
          "name": "stdout"
        }
      ]
    },
    {
      "cell_type": "markdown",
      "metadata": {
        "id": "sLK2ISrYJSm5"
      },
      "source": [
        "#Ejemplo de Aplicación de Pilas\n",
        "\n",
        "x= 4+5+6+3\n",
        "\n",
        "x= 4+(5+6)+3\n",
        "\n",
        "x= 4+5+6)+3\n",
        "\n",
        "if(a==b) {System.out.println(b}\n",
        "\n",
        "if(a==b) {System.out.println(b)}\n",
        "\n",
        "# reglas\n",
        "### '(' ---> push('@')\n",
        "### ')' ---> pop()\n",
        "\n",
        "Si al final del recorrido la pila está vacía, entonces la cadena es correcta.\n",
        "\n",
        "Si en un pop desencadena en querer sacar un elemento de la pila vacía, significa que la cadena no está balanceada\n"
      ]
    },
    {
      "cell_type": "markdown",
      "metadata": {
        "id": "c2c4PaiJNnfh"
      },
      "source": [
        "# TAREA\n",
        "\n",
        "Hacer un programa que valide el balanceo de '()', '[]' y '{}' en programas de lenguaje C y java, tomando como base el código de la clase. "
      ]
    }
  ]
}