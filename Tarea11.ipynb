{
  "nbformat": 4,
  "nbformat_minor": 0,
  "metadata": {
    "colab": {
      "name": "Tarea11.ipynb",
      "provenance": [],
      "authorship_tag": "ABX9TyMxp0BJkg0nzXB5OIqlGv02",
      "include_colab_link": true
    },
    "kernelspec": {
      "name": "python3",
      "display_name": "Python 3"
    }
  },
  "cells": [
    {
      "cell_type": "markdown",
      "metadata": {
        "id": "view-in-github",
        "colab_type": "text"
      },
      "source": [
        "<a href=\"https://colab.research.google.com/github/fpcnano/daa_2021_1/blob/master/Tarea11.ipynb\" target=\"_parent\"><img src=\"https://colab.research.google.com/assets/colab-badge.svg\" alt=\"Open In Colab\"/></a>"
      ]
    },
    {
      "cell_type": "code",
      "metadata": {
        "id": "HpsWrV01CrEk"
      },
      "source": [
        "def delete(self,value):\r\n",
        "    if self.__root == None:\r\n",
        "      return False\r\n",
        "    else:\r\n",
        "      #Haremos busqueda recursiva\r\n",
        "      return self._elimina_nodo(self._root,value)\r\n",
        "\r\n",
        "def __elimina_nodo(self,nodo,value):\r\n",
        "    if nodo == None:\r\n",
        "      return None\r\n",
        "    elif nodo.data == value:\r\n",
        "      if nodo.rigth == None and nodo.left == None:\r\n",
        "        nodo.data = None\r\n",
        "\r\n",
        "      if nodo.rigth == None and nodo.left != None:\r\n",
        "        nodo.data = nodo.left.data\r\n",
        "        nodo.left.data = None\r\n",
        "\r\n",
        "      if nodo.rigth != None and nodo.left == None:\r\n",
        "        nodo.data = nodo.rigth.data\r\n",
        "        nodo.rigth.data = None\r\n",
        "\r\n",
        "      if nodo.rigth != None and nodo.left != None:\r\n",
        "        nodo.data = self.__buscar_menor(nodo)\r\n",
        "\r\n",
        "    elif value < nodo.data:\r\n",
        "      return self.__elimina_nodo(nodo.left,value)\r\n",
        "    else:\r\n",
        "      return self.__elimina_nodo(nodo.rigth,value)\r\n",
        "      \r\n",
        "def __buscar_menor(self,nodo):\r\n",
        "    if nodo != None:\r\n",
        "      aux = nodo.rigth\r\n",
        "      while aux.left != None:\r\n",
        "        aux = aux.left\r\n",
        "      menor = aux.data\r\n",
        "      aux.data = None\r\n",
        "      return menor"
      ],
      "execution_count": 3,
      "outputs": []
    }
  ]
}