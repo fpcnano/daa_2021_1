{
  "nbformat": 4,
  "nbformat_minor": 0,
  "metadata": {
    "colab": {
      "name": "07octubre.ipynb",
      "provenance": [],
      "authorship_tag": "ABX9TyMwrTDDGYpvVz3/PlBSO53v",
      "include_colab_link": true
    },
    "kernelspec": {
      "name": "python3",
      "display_name": "Python 3"
    }
  },
  "cells": [
    {
      "cell_type": "markdown",
      "metadata": {
        "id": "view-in-github",
        "colab_type": "text"
      },
      "source": [
        "<a href=\"https://colab.research.google.com/github/fpcnano/daa_2021_1/blob/master/07octubre.ipynb\" target=\"_parent\"><img src=\"https://colab.research.google.com/assets/colab-badge.svg\" alt=\"Open In Colab\"/></a>"
      ]
    },
    {
      "cell_type": "markdown",
      "metadata": {
        "id": "_jWqITOlShkh"
      },
      "source": [
        "# Busqueda Lineal\n",
        "\n",
        "Dada un conjunto de datos no ordenados, la bbusqueda lineal consiste en recorrer el conjunto de datos desde el inicio al final, moviendose de uno en uno hasta encontrar el elemento o lllegar al final del conjunto.\n",
        "\n",
        "arreglo[]= {4,18,47,2,34,14,78,12,48,21,31,19,1,3,5}\n",
        "\n",
        "## Búsqueda Binaria\n",
        "\n",
        "Funciona sobre un conjunto de datos lineal ordenado. Consiste en dividir el conjunto en mitades y buscar en esa mitad si el elemento buscado no está en la mitad, preguntas si el elemento está a la derecha o a la izquierda.\n",
        "\n",
        "Haces la lista igual a la mitad correspondiente y repites el proceso.\n",
        "\n",
        "L= [1, 2, 3, 4, 5, 12, 14, 18, 19, 21, 31, 34, 47, 48, 78]\n",
        "\n",
        "DER= longitud(L)-1\n",
        "\n",
        "IZQ= 0\n",
        "\n",
        "MID apuntará a la mitad del segmento de búsqueda\n",
        "\n",
        "buscado: es el valor a buscar \n",
        "\n",
        "1. Hacer DER= longitud(L)-1\n",
        "2. Hacer IZQ= 0\n",
        "3. Si IZQ > DER signnifica que hay un error en los datos\n",
        "4. Calcular MID= int((IZQ + DER) /2)\n",
        "5. mientras L[MID] != buscado hacer\n",
        "        preguntar L[MID] > buscado\n",
        "              hacer DER= MID\n",
        "        de lo contrario\n",
        "              hacer IZQ= MID\n",
        "        preguntar (DER - IZQ) %2 \n",
        "              MID=(IZQ+((DER-IZQ)/2))+1\n",
        "        de lo contrario\n",
        "              MID=IZQ+((DER-IZQ)/2 \n",
        "\n",
        "\n"
      ]
    },
    {
      "cell_type": "code",
      "metadata": {
        "id": "1EtjnmpqSfgu",
        "outputId": "3b2111fb-0864-4687-9f7e-128e79db96ea",
        "colab": {
          "base_uri": "https://localhost:8080/"
        }
      },
      "source": [
        "\"\"\"\n",
        "Busqueda Lineal\n",
        "regresa la posición del elemento \"buscado\" si se encuntra dentro d ela lista.\n",
        "Regresa -1 si elemento buscado no existe dentro de la lista.\n",
        "\"\"\"\n",
        "def busqueda_lineal(L, buscado):\n",
        "  indice= -1\n",
        "  contador= 0\n",
        "  for idx in range(len(L)):\n",
        "    contador += 1\n",
        "    if L[idx] == buscado:\n",
        "      indice= idx\n",
        "      break\n",
        "  print(f\"Número de comparaciones realizadas: {contador}\")\n",
        "  return indice\n",
        "\n",
        "\"\"\"\n",
        "Busqueda binaria\n",
        "\"\"\"\n",
        "def busqueda_binaria(L, buscado):\n",
        "  IZQ= 0\n",
        "  DER= len(L)-1\n",
        "  MID= int((IZQ+DER)/2)\n",
        "\n",
        "  if len(L) % 2 == 0:\n",
        "    MID= (DER // 2)+1\n",
        "  else:\n",
        "    MID= DER//2\n",
        "\n",
        "  while (L[MID] != buscado):\n",
        "    if L[MID] > buscado:\n",
        "      DER= MID\n",
        "    else:\n",
        "      IZQ= MID\n",
        "    \n",
        "    if (DER-IZQ)%2 == 0:\n",
        "      MID= (IZQ+((DER-IZQ)//2))+1\n",
        "    else:\n",
        "      MID= IZQ+((DER-IZQ)//2)-1\n",
        "  return MID\n",
        "      \n",
        "\n",
        "\n",
        "def main():\n",
        "\n",
        "  datos= [4,18,47,2,34,14,78,12,48,21,31,19,1,3,5]\n",
        "  dato= int(input(\"Qué valor quieres buscar: \"))\n",
        "  print()\n",
        "  resultado= busqueda_lineal(datos, dato)\n",
        "  print(\"Resultado en el lugar: \",resultado)\n",
        "  print()\n",
        "  print(\"Busqueda Lienal En Una Lista Ordenada\")\n",
        "  print()\n",
        "  datos.sort()\n",
        "  print(datos)\n",
        "  resultado= busqueda_lineal(datos, dato)\n",
        "  print(\"Resultado en el lugar: \",resultado)\n",
        "  print()\n",
        "  print(\"Búsqueda Binaria\")\n",
        "  posicion= busqueda_binaria()\n",
        "\n",
        "main()\n"
      ],
      "execution_count": 11,
      "outputs": [
        {
          "output_type": "stream",
          "text": [
            "Qué valor quieres buscar: 3\n",
            "\n",
            "Número de comparaciones realizadas: 14\n",
            "Resultado en el lugar:  13\n",
            "\n",
            "Busqueda Lienal En Una Lista Ordenada\n",
            "\n",
            "[1, 2, 3, 4, 5, 12, 14, 18, 19, 21, 31, 34, 47, 48, 78]\n",
            "Número de comparaciones realizadas: 3\n",
            "Resultado en el lugar:  2\n"
          ],
          "name": "stdout"
        }
      ]
    }
  ]
}