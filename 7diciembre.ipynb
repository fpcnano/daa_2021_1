{
  "nbformat": 4,
  "nbformat_minor": 0,
  "metadata": {
    "colab": {
      "name": "7diciembre.ipynb",
      "provenance": [],
      "authorship_tag": "ABX9TyNSmXB05CIF85iGVaXFp8ks",
      "include_colab_link": true
    },
    "kernelspec": {
      "name": "python3",
      "display_name": "Python 3"
    }
  },
  "cells": [
    {
      "cell_type": "markdown",
      "metadata": {
        "id": "view-in-github",
        "colab_type": "text"
      },
      "source": [
        "<a href=\"https://colab.research.google.com/github/fpcnano/daa_2021_1/blob/master/7diciembre.ipynb\" target=\"_parent\"><img src=\"https://colab.research.google.com/assets/colab-badge.svg\" alt=\"Open In Colab\"/></a>"
      ]
    },
    {
      "cell_type": "code",
      "metadata": {
        "id": "6pNLTAIvvl33"
      },
      "source": [
        "def fibonacci( n ):\n",
        "  print(\"Llamada:\", n)\n",
        "  if n == 1 or n == 0:\n",
        "    return n\n",
        "  else:\n",
        "    return (fibonacci(n-1) + fibonacci(n-2))\n",
        "\n",
        "print(fibonacci(8))"
      ],
      "execution_count": null,
      "outputs": []
    }
  ]
}