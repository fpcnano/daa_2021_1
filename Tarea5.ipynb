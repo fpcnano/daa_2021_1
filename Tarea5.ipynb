{
  "nbformat": 4,
  "nbformat_minor": 0,
  "metadata": {
    "colab": {
      "name": "Tarea5.ipynb",
      "provenance": [],
      "authorship_tag": "ABX9TyNXHi4vZ/ow4qn54v+MHgLo",
      "include_colab_link": true
    },
    "kernelspec": {
      "name": "python3",
      "display_name": "Python 3"
    }
  },
  "cells": [
    {
      "cell_type": "markdown",
      "metadata": {
        "id": "view-in-github",
        "colab_type": "text"
      },
      "source": [
        "<a href=\"https://colab.research.google.com/github/fpcnano/daa_2021_1/blob/master/Tarea5.ipynb\" target=\"_parent\"><img src=\"https://colab.research.google.com/assets/colab-badge.svg\" alt=\"Open In Colab\"/></a>"
      ]
    },
    {
      "cell_type": "code",
      "metadata": {
        "id": "dw0DjJb0pk8r",
        "outputId": "582c518d-9125-4ac5-e0c6-45e1525b5e4b",
        "colab": {
          "base_uri": "https://localhost:8080/",
          "height": 187
        }
      },
      "source": [
        "from time import time\n",
        "\n",
        "def ejemplo1(n):\n",
        "  start_time= time()\n",
        "  c = n + 1\n",
        "  d = c * n\n",
        "  e = n * n\n",
        "  total = c + e - d\n",
        "  elapsed_time = time() - start_time\n",
        "  print(\"Tiempo transcurrido: %0.10f segundos.\" % elapsed_time)\n",
        "  \n",
        "for entrada in range(100,1100,100):\n",
        "  ejemplo1(entrada)"
      ],
      "execution_count": 4,
      "outputs": [
        {
          "output_type": "stream",
          "text": [
            "Tiempo transcurrido: 0.0000011921 segundos.\n",
            "Tiempo transcurrido: 0.0000011921 segundos.\n",
            "Tiempo transcurrido: 0.0000004768 segundos.\n",
            "Tiempo transcurrido: 0.0000004768 segundos.\n",
            "Tiempo transcurrido: 0.0000007153 segundos.\n",
            "Tiempo transcurrido: 0.0000002384 segundos.\n",
            "Tiempo transcurrido: 0.0000004768 segundos.\n",
            "Tiempo transcurrido: 0.0000007153 segundos.\n",
            "Tiempo transcurrido: 0.0000004768 segundos.\n",
            "Tiempo transcurrido: 0.0000004768 segundos.\n"
          ],
          "name": "stdout"
        }
      ]
    },
    {
      "cell_type": "code",
      "metadata": {
        "id": "lmg8jZ10qcda",
        "outputId": "af8bee30-9d3a-4f08-bbdb-838880cffe24",
        "colab": {
          "base_uri": "https://localhost:8080/",
          "height": 187
        }
      },
      "source": [
        "from time import time\n",
        "\n",
        "def ejemplo2(n):\n",
        "  start_time= time()\n",
        "  contador = 0\n",
        "  for i in range( n ) :\n",
        "      for j in range( n ) :\n",
        "          contador += 1\n",
        "  elapsed_time = time() - start_time\n",
        "  print(\"Tiempo transcurrido: %0.10f segundos.\" % elapsed_time)\n",
        "  return contador\n",
        "\n",
        "for entrada in range(100,1100,100):\n",
        "  ejemplo2(entrada)"
      ],
      "execution_count": 7,
      "outputs": [
        {
          "output_type": "stream",
          "text": [
            "Tiempo transcurrido: 0.0004539490 segundos.\n",
            "Tiempo transcurrido: 0.0023114681 segundos.\n",
            "Tiempo transcurrido: 0.0049397945 segundos.\n",
            "Tiempo transcurrido: 0.0087053776 segundos.\n",
            "Tiempo transcurrido: 0.0147986412 segundos.\n",
            "Tiempo transcurrido: 0.0231564045 segundos.\n",
            "Tiempo transcurrido: 0.0264713764 segundos.\n",
            "Tiempo transcurrido: 0.0329639912 segundos.\n",
            "Tiempo transcurrido: 0.0449833870 segundos.\n",
            "Tiempo transcurrido: 0.0541155338 segundos.\n"
          ],
          "name": "stdout"
        }
      ]
    },
    {
      "cell_type": "code",
      "metadata": {
        "id": "6VNEkg9erBqu",
        "outputId": "cf4d6eb2-79a5-4ee9-b23a-62f0e0666abc",
        "colab": {
          "base_uri": "https://localhost:8080/",
          "height": 187
        }
      },
      "source": [
        "from time import time\n",
        "\n",
        "def ejemplo3(n):\n",
        "  start_time= time()\n",
        "  x = n * 2\n",
        "  y = 2\n",
        "  for m in range(100):\n",
        "      y = x - n\n",
        "  elapsed_time = time() - start_time\n",
        "  print(\"Tiempo transcurrido: %0.10f segundos.\" % elapsed_time)\n",
        "  return y \n",
        "\n",
        "for entrada in range(100,1100,100):\n",
        "  ejemplo3(entrada)"
      ],
      "execution_count": 8,
      "outputs": [
        {
          "output_type": "stream",
          "text": [
            "Tiempo transcurrido: 0.0000042915 segundos.\n",
            "Tiempo transcurrido: 0.0000066757 segundos.\n",
            "Tiempo transcurrido: 0.0000092983 segundos.\n",
            "Tiempo transcurrido: 0.0000090599 segundos.\n",
            "Tiempo transcurrido: 0.0000088215 segundos.\n",
            "Tiempo transcurrido: 0.0000092983 segundos.\n",
            "Tiempo transcurrido: 0.0000088215 segundos.\n",
            "Tiempo transcurrido: 0.0000085831 segundos.\n",
            "Tiempo transcurrido: 0.0000088215 segundos.\n",
            "Tiempo transcurrido: 0.0000078678 segundos.\n"
          ],
          "name": "stdout"
        }
      ]
    },
    {
      "cell_type": "code",
      "metadata": {
        "id": "PsNVThT_rkZq",
        "outputId": "a3846b91-d099-4776-9b52-6afdc5792055",
        "colab": {
          "base_uri": "https://localhost:8080/",
          "height": 187
        }
      },
      "source": [
        "from time import time\n",
        "\n",
        "def ejemplo4(n):\n",
        "  start_time= time()\n",
        "  x = 3 * 3.1416 + n\n",
        "  y = x + 3 * 3 - n\n",
        "  z = x + y\n",
        "  elapsed_time = time() - start_time\n",
        "  print(\"Tiempo transcurrido: %0.10f segundos.\" % elapsed_time)\n",
        "  return z\n",
        "\n",
        "for entrada in range(100,1100,100):\n",
        "  ejemplo4(entrada)"
      ],
      "execution_count": 9,
      "outputs": [
        {
          "output_type": "stream",
          "text": [
            "Tiempo transcurrido: 0.0000011921 segundos.\n",
            "Tiempo transcurrido: 0.0000009537 segundos.\n",
            "Tiempo transcurrido: 0.0000007153 segundos.\n",
            "Tiempo transcurrido: 0.0000004768 segundos.\n",
            "Tiempo transcurrido: 0.0000004768 segundos.\n",
            "Tiempo transcurrido: 0.0000004768 segundos.\n",
            "Tiempo transcurrido: 0.0000004768 segundos.\n",
            "Tiempo transcurrido: 0.0000016689 segundos.\n",
            "Tiempo transcurrido: 0.0000007153 segundos.\n",
            "Tiempo transcurrido: 0.0000004768 segundos.\n"
          ],
          "name": "stdout"
        }
      ]
    },
    {
      "cell_type": "code",
      "metadata": {
        "id": "86HRIV0LsCQy",
        "outputId": "28fba347-9091-4afc-e2b5-13bccaa5a080",
        "colab": {
          "base_uri": "https://localhost:8080/",
          "height": 187
        }
      },
      "source": [
        "from time import time\n",
        "\n",
        "def ejemplo5( x ):\n",
        "  start_time= time()\n",
        "  n = 10\n",
        "  for j in range( 0 , x , 1 ):\n",
        "      n = j + n\n",
        "  elapsed_time = time() - start_time\n",
        "  print(\"Tiempo transcurrido: %0.10f segundos.\" % elapsed_time)\n",
        "  return n\n",
        "\n",
        "for entrada in range(100,1100,100):\n",
        "  ejemplo5(entrada)"
      ],
      "execution_count": 13,
      "outputs": [
        {
          "output_type": "stream",
          "text": [
            "Tiempo transcurrido: 0.0000088215 segundos.\n",
            "Tiempo transcurrido: 0.0000319481 segundos.\n",
            "Tiempo transcurrido: 0.0000219345 segundos.\n",
            "Tiempo transcurrido: 0.0000319481 segundos.\n",
            "Tiempo transcurrido: 0.0000448227 segundos.\n",
            "Tiempo transcurrido: 0.0000505447 segundos.\n",
            "Tiempo transcurrido: 0.0000550747 segundos.\n",
            "Tiempo transcurrido: 0.0000712872 segundos.\n",
            "Tiempo transcurrido: 0.0000784397 segundos.\n",
            "Tiempo transcurrido: 0.0000865459 segundos.\n"
          ],
          "name": "stdout"
        }
      ]
    },
    {
      "cell_type": "code",
      "metadata": {
        "id": "KJ1H-IU_uKkb",
        "outputId": "36336e99-eac3-405a-8312-13b55f1814f4",
        "colab": {
          "base_uri": "https://localhost:8080/",
          "height": 187
        }
      },
      "source": [
        "from time import time\n",
        "\n",
        "def ejemplo6( n ):\n",
        "  start_time= time()\n",
        "  data=[[[1 for x in range(n)] for x in range(n)]\n",
        "        for x in range(n)]\n",
        "  suma = 0\n",
        "  for d in range(n):\n",
        "      for r in range(n):\n",
        "          for c in range(n):\n",
        "              suma += data[d][r][c]\n",
        "  elapsed_time = time() - start_time\n",
        "  print(\"Tiempo transcurrido: %0.10f segundos.\" % elapsed_time)\n",
        "  return suma\n",
        "\n",
        "for entrada in range(100,1100,100):\n",
        "  ejemplo6(entrada)"
      ],
      "execution_count": 15,
      "outputs": [
        {
          "output_type": "stream",
          "text": [
            "Tiempo transcurrido: 0.1425504684 segundos.\n",
            "Tiempo transcurrido: 1.0675783157 segundos.\n",
            "Tiempo transcurrido: 5.1737387180 segundos.\n",
            "Tiempo transcurrido: 8.8431024551 segundos.\n",
            "Tiempo transcurrido: 18.8036458492 segundos.\n",
            "Tiempo transcurrido: 31.6560254097 segundos.\n",
            "Tiempo transcurrido: 56.1013562679 segundos.\n",
            "Tiempo transcurrido: 79.5463345051 segundos.\n",
            "Tiempo transcurrido: 108.8887915611 segundos.\n",
            "Tiempo transcurrido: 157.8993318081 segundos.\n"
          ],
          "name": "stdout"
        }
      ]
    }
  ]
}