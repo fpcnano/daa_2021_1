{
  "nbformat": 4,
  "nbformat_minor": 0,
  "metadata": {
    "colab": {
      "name": "28Septiembre.ipynb",
      "provenance": [],
      "authorship_tag": "ABX9TyPe3mbxsa4Jr7/6CJwGHdMN",
      "include_colab_link": true
    },
    "kernelspec": {
      "name": "python3",
      "display_name": "Python 3"
    }
  },
  "cells": [
    {
      "cell_type": "markdown",
      "metadata": {
        "id": "view-in-github",
        "colab_type": "text"
      },
      "source": [
        "<a href=\"https://colab.research.google.com/github/fpcnano/daa_2021_1/blob/master/28Septiembre.ipynb\" target=\"_parent\"><img src=\"https://colab.research.google.com/assets/colab-badge.svg\" alt=\"Open In Colab\"/></a>"
      ]
    },
    {
      "cell_type": "markdown",
      "metadata": {
        "id": "286TOjYeD4bM"
      },
      "source": [
        "# Sección 1\n",
        "\n",
        "En este archivo aprenderemos a programar en Python con la herramienta de Google, colab.research\n",
        "\n",
        "Tambien aprenderemos a guardar nuestros cambios a nuestro repositorio de github.com"
      ]
    },
    {
      "cell_type": "markdown",
      "metadata": {
        "id": "sk3l1uKfEo8M"
      },
      "source": [
        "# Código Nuevo\n",
        "\n",
        "`edad= 10\n",
        "print(edad)\n",
        "`"
      ]
    },
    {
      "cell_type": "code",
      "metadata": {
        "id": "sJI8e26vHC_o",
        "outputId": "2d2d3c09-2e1e-474f-b7f7-e446c5c03102",
        "colab": {
          "base_uri": "https://localhost:8080/",
          "height": 34
        }
      },
      "source": [
        "frutas= []\n",
        "frutas.append('Manzana')\n",
        "frutas.append('Piña')\n",
        "frutas.append('Mango')\n",
        "print(frutas)"
      ],
      "execution_count": 6,
      "outputs": [
        {
          "output_type": "stream",
          "text": [
            "['Manzana', 'Piña', 'Mango']\n"
          ],
          "name": "stdout"
        }
      ]
    },
    {
      "cell_type": "code",
      "metadata": {
        "id": "_j_bZkbsHugd"
      },
      "source": [
        "archivo= open('Prueba_daa.txt','wt')\n",
        "archivo.write('Hola Mundo Jupyter')\n",
        "archivo.close()"
      ],
      "execution_count": 7,
      "outputs": []
    }
  ]
}